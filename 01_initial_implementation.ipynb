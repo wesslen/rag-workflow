{
  "nbformat": 4,
  "nbformat_minor": 0,
  "metadata": {
    "colab": {
      "provenance": [],
      "authorship_tag": "ABX9TyMmtS6DImhfTcSTodY2IZda",
      "include_colab_link": true
    },
    "kernelspec": {
      "name": "python3",
      "display_name": "Python 3"
    },
    "language_info": {
      "name": "python"
    }
  },
  "cells": [
    {
      "cell_type": "markdown",
      "metadata": {
        "id": "view-in-github",
        "colab_type": "text"
      },
      "source": [
        "<a href=\"https://colab.research.google.com/github/wesslen/rag-workflow/blob/main/01_initial_implementation.ipynb\" target=\"_parent\"><img src=\"https://colab.research.google.com/assets/colab-badge.svg\" alt=\"Open In Colab\"/></a>"
      ]
    },
    {
      "cell_type": "code",
      "execution_count": 1,
      "metadata": {
        "id": "mpXbejGfm1yb"
      },
      "outputs": [],
      "source": [
        "%%capture\n",
        "!uv pip install --system llama-index llama-index-embeddings-huggingface llama-index-llms-openai-like"
      ]
    },
    {
      "cell_type": "code",
      "source": [
        "import os\n",
        "from google.colab import userdata\n",
        "\n",
        "API_KEY = userdata.get('API_KEY')\n",
        "BASE_URL = userdata.get('BASE_URL')"
      ],
      "metadata": {
        "id": "2EldaaCZm6QF"
      },
      "execution_count": 2,
      "outputs": []
    },
    {
      "cell_type": "code",
      "source": [
        "# take WF Code of Conduct\n",
        "!wget -O text.txt https://r.jina.ai/https://www.wellsfargo.com/assets/pdf/about/corporate/code-of-conduct.pdf"
      ],
      "metadata": {
        "id": "LHmzOIbbm84u",
        "outputId": "df71f81f-ba84-453c-f787-d31c40a52d84",
        "colab": {
          "base_uri": "https://localhost:8080/"
        }
      },
      "execution_count": 3,
      "outputs": [
        {
          "output_type": "stream",
          "name": "stdout",
          "text": [
            "--2025-01-11 23:32:34--  https://r.jina.ai/https://www.wellsfargo.com/assets/pdf/about/corporate/code-of-conduct.pdf\n",
            "Resolving r.jina.ai (r.jina.ai)... 172.67.70.54, 104.26.10.242, 104.26.11.242, ...\n",
            "Connecting to r.jina.ai (r.jina.ai)|172.67.70.54|:443... connected.\n",
            "HTTP request sent, awaiting response... 200 OK\n",
            "Length: 41541 (41K) [text/plain]\n",
            "Saving to: ‘text.txt’\n",
            "\n",
            "text.txt            100%[===================>]  40.57K  --.-KB/s    in 0.004s  \n",
            "\n",
            "2025-01-11 23:32:35 (11.1 MB/s) - ‘text.txt’ saved [41541/41541]\n",
            "\n"
          ]
        }
      ]
    },
    {
      "cell_type": "code",
      "source": [
        "from llama_index.llms.openai_like import OpenAILike\n",
        "\n",
        "llm = OpenAILike(model=\"/models/NousResearch/Meta-Llama-3.1-8B-Instruct\", api_base=BASE_URL, api_key=API_KEY)\n",
        "# response = llm.complete(\"Hello World!\")\n",
        "# print(str(response))"
      ],
      "metadata": {
        "id": "6NG6SrFQm_LH"
      },
      "execution_count": 4,
      "outputs": []
    },
    {
      "cell_type": "code",
      "source": [
        "from llama_index.embeddings.huggingface import HuggingFaceEmbedding\n",
        "\n",
        "embed_model = HuggingFaceEmbedding(model_name=\"sentence-transformers/all-mpnet-base-v2\")"
      ],
      "metadata": {
        "id": "SzPW57wLnBn_",
        "outputId": "0e978fb1-b9b3-4196-873e-47ed68e81d6e",
        "colab": {
          "base_uri": "https://localhost:8080/"
        }
      },
      "execution_count": 5,
      "outputs": [
        {
          "output_type": "stream",
          "name": "stderr",
          "text": [
            "/usr/local/lib/python3.10/dist-packages/huggingface_hub/utils/_auth.py:94: UserWarning: \n",
            "The secret `HF_TOKEN` does not exist in your Colab secrets.\n",
            "To authenticate with the Hugging Face Hub, create a token in your settings tab (https://huggingface.co/settings/tokens), set it as secret in your Google Colab and restart your session.\n",
            "You will be able to reuse this secret in all of your notebooks.\n",
            "Please note that authentication is recommended but still optional to access public models or datasets.\n",
            "  warnings.warn(\n"
          ]
        }
      ]
    },
    {
      "cell_type": "code",
      "source": [
        "from llama_index.core import VectorStoreIndex, SimpleDirectoryReader\n",
        "from llama_index.core import Settings\n",
        "\n",
        "# Loading text files in root\n",
        "documents = SimpleDirectoryReader(\".\").load_data()\n",
        "\n",
        "Settings.chunk_size = 100\n",
        "Settings.chunk_overlap = 20\n",
        "\n",
        "index = VectorStoreIndex.from_documents(documents, embed_model=embed_model)"
      ],
      "metadata": {
        "id": "m4VFlM7enFpZ"
      },
      "execution_count": 6,
      "outputs": []
    },
    {
      "cell_type": "code",
      "source": [
        "from llama_index.core import Settings\n",
        "\n",
        "# To turn off generation\n",
        "# Settings.llm = None\n",
        "\n",
        "rag_application = index.as_query_engine(similarity_top_k=5, llm=llm)"
      ],
      "metadata": {
        "id": "ha_-_1ULs_KU"
      },
      "execution_count": 7,
      "outputs": []
    },
    {
      "cell_type": "code",
      "source": [
        "# An example input to your RAG application\n",
        "user_input = \"What are Wells Fargo's policies on lobbying and pay-to-play laws?\"\n",
        "\n",
        "# LlamaIndex returns a response object that contains\n",
        "# both the output string and retrieved nodes\n",
        "response_object = rag_application.query(user_input)\n",
        "\n",
        "# Process the response object to get the output string\n",
        "# and retrieved nodes\n",
        "if response_object is not None:\n",
        "    actual_output = response_object.response\n",
        "    retrieval_context = [node.get_content() for node in response_object.source_nodes]"
      ],
      "metadata": {
        "id": "5o9uyr9CnPhw"
      },
      "execution_count": 8,
      "outputs": []
    },
    {
      "cell_type": "code",
      "source": [
        "actual_output"
      ],
      "metadata": {
        "id": "XKsvLTicnS5a",
        "outputId": "af4fd0d3-d01a-4e78-8a96-ae57a90a259b",
        "colab": {
          "base_uri": "https://localhost:8080/",
          "height": 35
        }
      },
      "execution_count": 9,
      "outputs": [
        {
          "output_type": "execute_result",
          "data": {
            "text/plain": [
              "' Wells Fargo does not use company funds for campaign contributions, candidate campaign committees, political'"
            ],
            "application/vnd.google.colaboratory.intrinsic+json": {
              "type": "string"
            }
          },
          "metadata": {},
          "execution_count": 9
        }
      ]
    },
    {
      "cell_type": "code",
      "source": [
        "retrieval_context"
      ],
      "metadata": {
        "id": "oQg8sMGgnUWc",
        "outputId": "e54131ea-b5c8-4949-af09-385ffd1eb6c6",
        "colab": {
          "base_uri": "https://localhost:8080/"
        }
      },
      "execution_count": 10,
      "outputs": [
        {
          "output_type": "execute_result",
          "data": {
            "text/plain": [
              "['> 13 of 19 Code of Conduct\\n> TOC  Decision making  Speak Up Introduction  Do what is right  Closing\\n\\nAnti-bribery and anti-corruption \\n\\nWells Fargo does not tolerate bribery or corruption in any form. Such conduct is against the law and the company prohibits it. Further, employees are prohibited from offering, accepting, or utilizing third parties to facilitate bribes.',\n",
              " 'Financial crimes and money laundering \\n\\nAs a global financial institution, Wells Fargo has important responsibilities to help combat money laundering and other financial crimes including tax evasion, terrorist financing, identity theft, bribery, corruption, sanctions evasion, and fraud. We are committed to complying with all applicable global laws and regulations related to anti-money laundering, sanctions, countering the financing of terrorism, bribery, and corruption, and following applicable tax rules.',\n",
              " '> 8 of 19 Code of Conduct\\n> TOC  Decision making  Speak Up Introduction  Do what is right  Closing\\n\\n# Upholding our ethical and legal obligations \\n\\n# Identify and avoid conflicts of interest \\n\\nWells Fargo is committed to identifying and either preventing or managing conflicts of interest. Employees need to recognize that certain activities can cause an actual, potential, or perceived conflict of interest, or jeopardize the company’s integrity or reputation.',\n",
              " 'Company funds are never used for any campaign contributions, candidate campaign committees, political parties, caucuses, or independent expenditure committees. Wells Fargo supports U.S. candidates seeking public office only through Wells Fargo-sponsored Political Action Committees. \\n\\nCovered employees and their family members are subject to additional requirements and restrictions, including approval of outside political activities, contributions, and fundraising under applicable laws.',\n",
              " 'Further, employees are prohibited from offering, accepting, or utilizing third parties to facilitate bribes. \\n\\nEmployees must: \\n\\n• Report suspected bribery or corruption in accordance with the Anti-Bribery and Corruption Policy. \\n\\n• Comply with all pre-clearance and approval requirements related to transfers of anything of value, employment offers, and third parties. \\n\\nCompetition and antitrust laws \\n\\nFree and fair competition benefits Wells Fargo and its customers.']"
            ]
          },
          "metadata": {},
          "execution_count": 10
        }
      ]
    }
  ]
}