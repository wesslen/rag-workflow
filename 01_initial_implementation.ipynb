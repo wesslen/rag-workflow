{
  "nbformat": 4,
  "nbformat_minor": 0,
  "metadata": {
    "colab": {
      "provenance": [],
      "authorship_tag": "ABX9TyMYL6hCTdk8d9vGzXA3eteW",
      "include_colab_link": true
    },
    "kernelspec": {
      "name": "python3",
      "display_name": "Python 3"
    },
    "language_info": {
      "name": "python"
    }
  },
  "cells": [
    {
      "cell_type": "markdown",
      "metadata": {
        "id": "view-in-github",
        "colab_type": "text"
      },
      "source": [
        "<a href=\"https://colab.research.google.com/github/wesslen/rag-workflow/blob/main/01_initial_implementation.ipynb\" target=\"_parent\"><img src=\"https://colab.research.google.com/assets/colab-badge.svg\" alt=\"Open In Colab\"/></a>"
      ]
    },
    {
      "cell_type": "code",
      "execution_count": null,
      "metadata": {
        "id": "mpXbejGfm1yb"
      },
      "outputs": [],
      "source": [
        "%%capture\n",
        "!uv pip install --system llama-index llama-index-embeddings-huggingface llama-index-llms-openai-like"
      ]
    },
    {
      "cell_type": "code",
      "source": [
        "import os\n",
        "from google.colab import userdata\n",
        "\n",
        "API_KEY = userdata.get('API_KEY')\n",
        "BASE_URL = userdata.get('BASE_URL')"
      ],
      "metadata": {
        "id": "2EldaaCZm6QF"
      },
      "execution_count": null,
      "outputs": []
    },
    {
      "cell_type": "code",
      "source": [
        "# take WF Code of Conduct\n",
        "!wget -O text.txt https://r.jina.ai/https://www.wellsfargo.com/assets/pdf/about/corporate/code-of-conduct.pdf"
      ],
      "metadata": {
        "id": "LHmzOIbbm84u"
      },
      "execution_count": null,
      "outputs": []
    },
    {
      "cell_type": "code",
      "source": [
        "from llama_index.llms.openai_like import OpenAILike\n",
        "\n",
        "llm = OpenAILike(model=\"/models/NousResearch/Meta-Llama-3.1-8B-Instruct\", api_base=BASE_URL, api_key=API_KEY)\n",
        "# response = llm.complete(\"Hello World!\")\n",
        "# print(str(response))"
      ],
      "metadata": {
        "id": "6NG6SrFQm_LH"
      },
      "execution_count": null,
      "outputs": []
    },
    {
      "cell_type": "code",
      "source": [
        "from llama_index.embeddings.huggingface import HuggingFaceEmbedding\n",
        "\n",
        "embed_model = HuggingFaceEmbedding(model_name=\"sentence-transformers/all-mpnet-base-v2\")"
      ],
      "metadata": {
        "id": "SzPW57wLnBn_"
      },
      "execution_count": null,
      "outputs": []
    },
    {
      "cell_type": "code",
      "source": [
        "from llama_index.core import VectorStoreIndex, SimpleDirectoryReader\n",
        "from llama_index.core import Settings\n",
        "\n",
        "# Loading text files in root\n",
        "documents = SimpleDirectoryReader(\".\").load_data()\n",
        "\n",
        "Settings.chunk_size = 100\n",
        "Settings.chunk_overlap = 20\n",
        "\n",
        "index = VectorStoreIndex.from_documents(documents, embed_model=embed_model)\n",
        "# llm=None - let's do retrieval only\n",
        "rag_application = index.as_query_engine(similarity_top_k=5, llm=None)"
      ],
      "metadata": {
        "id": "m4VFlM7enFpZ"
      },
      "execution_count": null,
      "outputs": []
    },
    {
      "cell_type": "code",
      "source": [
        "# An example input to your RAG application\n",
        "user_input = \"What are Wells Fargo's policies on lobbying and pay-to-play laws?\"\n",
        "\n",
        "# LlamaIndex returns a response object that contains\n",
        "# both the output string and retrieved nodes\n",
        "response_object = rag_application.query(user_input)\n",
        "\n",
        "# Process the response object to get the output string\n",
        "# and retrieved nodes\n",
        "if response_object is not None:\n",
        "    actual_output = response_object.response\n",
        "    retrieval_context = [node.get_content() for node in response_object.source_nodes]"
      ],
      "metadata": {
        "id": "5o9uyr9CnPhw"
      },
      "execution_count": null,
      "outputs": []
    },
    {
      "cell_type": "code",
      "source": [
        "actual_output"
      ],
      "metadata": {
        "id": "XKsvLTicnS5a"
      },
      "execution_count": null,
      "outputs": []
    },
    {
      "cell_type": "code",
      "source": [
        "retrieval_context"
      ],
      "metadata": {
        "id": "oQg8sMGgnUWc"
      },
      "execution_count": null,
      "outputs": []
    }
  ]
}